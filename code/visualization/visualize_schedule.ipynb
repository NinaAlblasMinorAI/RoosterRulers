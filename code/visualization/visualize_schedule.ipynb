{
 "cells": [
  {
   "cell_type": "code",
   "execution_count": 13,
   "id": "dcf87862",
   "metadata": {},
   "outputs": [],
   "source": [
    "import numpy as np\n",
    "from bokeh.plotting import figure, show, output_file\n",
    "from bokeh.io import output_notebook\n",
    "from bokeh.models import ColumnDataSource, Grid, LinearAxis, Plot, Rect, Text, HoverTool\n",
    "import pandas as pd\n",
    "from code.classes.schedule import Schedule"
   ]
  },
  {
   "cell_type": "code",
   "execution_count": 14,
   "id": "cbfc7d7e",
   "metadata": {},
   "outputs": [
    {
     "data": {
      "text/html": [
       "\n",
       "    <div class=\"bk-root\">\n",
       "        <a href=\"https://bokeh.org\" target=\"_blank\" class=\"bk-logo bk-logo-small bk-logo-notebook\"></a>\n",
       "        <span id=\"3896\">Loading BokehJS ...</span>\n",
       "    </div>"
      ]
     },
     "metadata": {},
     "output_type": "display_data"
    },
    {
     "data": {
      "application/javascript": "\n(function(root) {\n  function now() {\n    return new Date();\n  }\n\n  var force = true;\n\n  if (typeof root._bokeh_onload_callbacks === \"undefined\" || force === true) {\n    root._bokeh_onload_callbacks = [];\n    root._bokeh_is_loading = undefined;\n  }\n\n  var JS_MIME_TYPE = 'application/javascript';\n  var HTML_MIME_TYPE = 'text/html';\n  var EXEC_MIME_TYPE = 'application/vnd.bokehjs_exec.v0+json';\n  var CLASS_NAME = 'output_bokeh rendered_html';\n\n  /**\n   * Render data to the DOM node\n   */\n  function render(props, node) {\n    var script = document.createElement(\"script\");\n    node.appendChild(script);\n  }\n\n  /**\n   * Handle when an output is cleared or removed\n   */\n  function handleClearOutput(event, handle) {\n    var cell = handle.cell;\n\n    var id = cell.output_area._bokeh_element_id;\n    var server_id = cell.output_area._bokeh_server_id;\n    // Clean up Bokeh references\n    if (id != null && id in Bokeh.index) {\n      Bokeh.index[id].model.document.clear();\n      delete Bokeh.index[id];\n    }\n\n    if (server_id !== undefined) {\n      // Clean up Bokeh references\n      var cmd = \"from bokeh.io.state import curstate; print(curstate().uuid_to_server['\" + server_id + \"'].get_sessions()[0].document.roots[0]._id)\";\n      cell.notebook.kernel.execute(cmd, {\n        iopub: {\n          output: function(msg) {\n            var id = msg.content.text.trim();\n            if (id in Bokeh.index) {\n              Bokeh.index[id].model.document.clear();\n              delete Bokeh.index[id];\n            }\n          }\n        }\n      });\n      // Destroy server and session\n      var cmd = \"import bokeh.io.notebook as ion; ion.destroy_server('\" + server_id + \"')\";\n      cell.notebook.kernel.execute(cmd);\n    }\n  }\n\n  /**\n   * Handle when a new output is added\n   */\n  function handleAddOutput(event, handle) {\n    var output_area = handle.output_area;\n    var output = handle.output;\n\n    // limit handleAddOutput to display_data with EXEC_MIME_TYPE content only\n    if ((output.output_type != \"display_data\") || (!Object.prototype.hasOwnProperty.call(output.data, EXEC_MIME_TYPE))) {\n      return\n    }\n\n    var toinsert = output_area.element.find(\".\" + CLASS_NAME.split(' ')[0]);\n\n    if (output.metadata[EXEC_MIME_TYPE][\"id\"] !== undefined) {\n      toinsert[toinsert.length - 1].firstChild.textContent = output.data[JS_MIME_TYPE];\n      // store reference to embed id on output_area\n      output_area._bokeh_element_id = output.metadata[EXEC_MIME_TYPE][\"id\"];\n    }\n    if (output.metadata[EXEC_MIME_TYPE][\"server_id\"] !== undefined) {\n      var bk_div = document.createElement(\"div\");\n      bk_div.innerHTML = output.data[HTML_MIME_TYPE];\n      var script_attrs = bk_div.children[0].attributes;\n      for (var i = 0; i < script_attrs.length; i++) {\n        toinsert[toinsert.length - 1].firstChild.setAttribute(script_attrs[i].name, script_attrs[i].value);\n        toinsert[toinsert.length - 1].firstChild.textContent = bk_div.children[0].textContent\n      }\n      // store reference to server id on output_area\n      output_area._bokeh_server_id = output.metadata[EXEC_MIME_TYPE][\"server_id\"];\n    }\n  }\n\n  function register_renderer(events, OutputArea) {\n\n    function append_mime(data, metadata, element) {\n      // create a DOM node to render to\n      var toinsert = this.create_output_subarea(\n        metadata,\n        CLASS_NAME,\n        EXEC_MIME_TYPE\n      );\n      this.keyboard_manager.register_events(toinsert);\n      // Render to node\n      var props = {data: data, metadata: metadata[EXEC_MIME_TYPE]};\n      render(props, toinsert[toinsert.length - 1]);\n      element.append(toinsert);\n      return toinsert\n    }\n\n    /* Handle when an output is cleared or removed */\n    events.on('clear_output.CodeCell', handleClearOutput);\n    events.on('delete.Cell', handleClearOutput);\n\n    /* Handle when a new output is added */\n    events.on('output_added.OutputArea', handleAddOutput);\n\n    /**\n     * Register the mime type and append_mime function with output_area\n     */\n    OutputArea.prototype.register_mime_type(EXEC_MIME_TYPE, append_mime, {\n      /* Is output safe? */\n      safe: true,\n      /* Index of renderer in `output_area.display_order` */\n      index: 0\n    });\n  }\n\n  // register the mime type if in Jupyter Notebook environment and previously unregistered\n  if (root.Jupyter !== undefined) {\n    var events = require('base/js/events');\n    var OutputArea = require('notebook/js/outputarea').OutputArea;\n\n    if (OutputArea.prototype.mime_types().indexOf(EXEC_MIME_TYPE) == -1) {\n      register_renderer(events, OutputArea);\n    }\n  }\n\n  \n  if (typeof (root._bokeh_timeout) === \"undefined\" || force === true) {\n    root._bokeh_timeout = Date.now() + 5000;\n    root._bokeh_failed_load = false;\n  }\n\n  var NB_LOAD_WARNING = {'data': {'text/html':\n     \"<div style='background-color: #fdd'>\\n\"+\n     \"<p>\\n\"+\n     \"BokehJS does not appear to have successfully loaded. If loading BokehJS from CDN, this \\n\"+\n     \"may be due to a slow or bad network connection. Possible fixes:\\n\"+\n     \"</p>\\n\"+\n     \"<ul>\\n\"+\n     \"<li>re-rerun `output_notebook()` to attempt to load from CDN again, or</li>\\n\"+\n     \"<li>use INLINE resources instead, as so:</li>\\n\"+\n     \"</ul>\\n\"+\n     \"<code>\\n\"+\n     \"from bokeh.resources import INLINE\\n\"+\n     \"output_notebook(resources=INLINE)\\n\"+\n     \"</code>\\n\"+\n     \"</div>\"}};\n\n  function display_loaded() {\n    var el = document.getElementById(\"3896\");\n    if (el != null) {\n      el.textContent = \"BokehJS is loading...\";\n    }\n    if (root.Bokeh !== undefined) {\n      if (el != null) {\n        el.textContent = \"BokehJS \" + root.Bokeh.version + \" successfully loaded.\";\n      }\n    } else if (Date.now() < root._bokeh_timeout) {\n      setTimeout(display_loaded, 100)\n    }\n  }\n\n\n  function run_callbacks() {\n    try {\n      root._bokeh_onload_callbacks.forEach(function(callback) {\n        if (callback != null)\n          callback();\n      });\n    } finally {\n      delete root._bokeh_onload_callbacks\n    }\n    console.debug(\"Bokeh: all callbacks have finished\");\n  }\n\n  function load_libs(css_urls, js_urls, callback) {\n    if (css_urls == null) css_urls = [];\n    if (js_urls == null) js_urls = [];\n\n    root._bokeh_onload_callbacks.push(callback);\n    if (root._bokeh_is_loading > 0) {\n      console.debug(\"Bokeh: BokehJS is being loaded, scheduling callback at\", now());\n      return null;\n    }\n    if (js_urls == null || js_urls.length === 0) {\n      run_callbacks();\n      return null;\n    }\n    console.debug(\"Bokeh: BokehJS not loaded, scheduling load and callback at\", now());\n    root._bokeh_is_loading = css_urls.length + js_urls.length;\n\n    function on_load() {\n      root._bokeh_is_loading--;\n      if (root._bokeh_is_loading === 0) {\n        console.debug(\"Bokeh: all BokehJS libraries/stylesheets loaded\");\n        run_callbacks()\n      }\n    }\n\n    function on_error(url) {\n      console.error(\"failed to load \" + url);\n    }\n\n    for (let i = 0; i < css_urls.length; i++) {\n      const url = css_urls[i];\n      const element = document.createElement(\"link\");\n      element.onload = on_load;\n      element.onerror = on_error.bind(null, url);\n      element.rel = \"stylesheet\";\n      element.type = \"text/css\";\n      element.href = url;\n      console.debug(\"Bokeh: injecting link tag for BokehJS stylesheet: \", url);\n      document.body.appendChild(element);\n    }\n\n    const hashes = {\"https://cdn.bokeh.org/bokeh/release/bokeh-2.3.2.min.js\": \"XypntL49z55iwGVUW4qsEu83zKL3XEcz0MjuGOQ9SlaaQ68X/g+k1FcioZi7oQAc\", \"https://cdn.bokeh.org/bokeh/release/bokeh-tables-2.3.2.min.js\": \"bEsM86IHGDTLCS0Zod8a8WM6Y4+lafAL/eSiyQcuPzinmWNgNO2/olUF0Z2Dkn5i\", \"https://cdn.bokeh.org/bokeh/release/bokeh-widgets-2.3.2.min.js\": \"TX0gSQTdXTTeScqxj6PVQxTiRW8DOoGVwinyi1D3kxv7wuxQ02XkOxv0xwiypcAH\"};\n\n    for (let i = 0; i < js_urls.length; i++) {\n      const url = js_urls[i];\n      const element = document.createElement('script');\n      element.onload = on_load;\n      element.onerror = on_error.bind(null, url);\n      element.async = false;\n      element.src = url;\n      if (url in hashes) {\n        element.crossOrigin = \"anonymous\";\n        element.integrity = \"sha384-\" + hashes[url];\n      }\n      console.debug(\"Bokeh: injecting script tag for BokehJS library: \", url);\n      document.head.appendChild(element);\n    }\n  };\n\n  function inject_raw_css(css) {\n    const element = document.createElement(\"style\");\n    element.appendChild(document.createTextNode(css));\n    document.body.appendChild(element);\n  }\n\n  \n  var js_urls = [\"https://cdn.bokeh.org/bokeh/release/bokeh-2.3.2.min.js\", \"https://cdn.bokeh.org/bokeh/release/bokeh-widgets-2.3.2.min.js\", \"https://cdn.bokeh.org/bokeh/release/bokeh-tables-2.3.2.min.js\"];\n  var css_urls = [];\n  \n\n  var inline_js = [\n    function(Bokeh) {\n      Bokeh.set_log_level(\"info\");\n    },\n    function(Bokeh) {\n    \n    \n    }\n  ];\n\n  function run_inline_js() {\n    \n    if (root.Bokeh !== undefined || force === true) {\n      \n    for (var i = 0; i < inline_js.length; i++) {\n      inline_js[i].call(root, root.Bokeh);\n    }\n    if (force === true) {\n        display_loaded();\n      }} else if (Date.now() < root._bokeh_timeout) {\n      setTimeout(run_inline_js, 100);\n    } else if (!root._bokeh_failed_load) {\n      console.log(\"Bokeh: BokehJS failed to load within specified timeout.\");\n      root._bokeh_failed_load = true;\n    } else if (force !== true) {\n      var cell = $(document.getElementById(\"3896\")).parents('.cell').data().cell;\n      cell.output_area.append_execute_result(NB_LOAD_WARNING)\n    }\n\n  }\n\n  if (root._bokeh_is_loading === 0) {\n    console.debug(\"Bokeh: BokehJS loaded, going straight to plotting\");\n    run_inline_js();\n  } else {\n    load_libs(css_urls, js_urls, function() {\n      console.debug(\"Bokeh: BokehJS plotting callback run at\", now());\n      run_inline_js();\n    });\n  }\n}(window));",
      "application/vnd.bokehjs_load.v0+json": ""
     },
     "metadata": {},
     "output_type": "display_data"
    }
   ],
   "source": [
    "output_notebook()"
   ]
  },
  {
   "cell_type": "code",
   "execution_count": 65,
   "id": "8fa6a610",
   "metadata": {},
   "outputs": [],
   "source": [
    "# def time_ticker_func(tick_value):\n",
    "#     \"\"\"\n",
    "#     Takes the tick value and returns the corresponding time.\n",
    "#     \"\"\"\n",
    "    \n",
    "#     if tick_value == 25:\n",
    "#         return \"19:00\"\n",
    "#     elif tick_value % 5 == 1:\n",
    "#         return \"11:00\"\n",
    "#     elif tick_value % 5 == 2:\n",
    "#         return \"13:00\"\n",
    "#     elif tick_value % 5 == 3:\n",
    "#         return \"15:00\"\n",
    "#     elif tick_value % 5 == 4:\n",
    "#         return \"17:00\"\n",
    "#     else:\n",
    "#         return \"09:00\"\n",
    "    \n",
    "# def day_ticker_func(tick_value):\n",
    "#     \"\"\"\n",
    "#     Takes the tick_value and returns the corresponding day.\n",
    "#     \"\"\"\n",
    "    \n",
    "#     # TODO: magic numbers weg\n",
    "#     tick_to_day = {2.5: \"Monday\", 7.5: \"Tuesday\", 12.5: \"Wednesday\", 17.5: \"Thursday\", 22.5: \"Friday\"}\n",
    "    \n",
    "#     return tick_to_day[tick_value]\n",
    "    \n",
    "# def color_pick(day_index):\n",
    "#     \"\"\"\n",
    "#     Takes the day index (Monday = 0, Tuesday = 1, Wednesday = 2, Thursday = 3, Friday = 4) and\n",
    "#     returns one of two colors, in order to distinguish the days from each other in the schedule.\n",
    "#     \"\"\"\n",
    "    \n",
    "#     if day_index % 2 == 0:\n",
    "#         return \"lavenderblush\"\n",
    "    \n",
    "#     return \"pink\""
   ]
  },
  {
   "cell_type": "code",
   "execution_count": 66,
   "id": "febce8a5",
   "metadata": {},
   "outputs": [
    {
     "data": {
      "text/html": [
       "\n",
       "\n",
       "\n",
       "\n",
       "\n",
       "\n",
       "  <div class=\"bk-root\" id=\"3c855788-04f9-4702-b95b-79ccfcf007bb\" data-root-id=\"47173\"></div>\n"
      ]
     },
     "metadata": {},
     "output_type": "display_data"
    },
    {
     "data": {
      "application/javascript": "(function(root) {\n  function embed_document(root) {\n    \n  var docs_json = {\"f5cdfc6b-02f0-4d10-8985-7c22e1367aa1\":{\"defs\":[],\"roots\":{\"references\":[{\"attributes\":{\"above\":[{\"id\":\"47214\"}],\"center\":[{\"id\":\"47218\"},{\"id\":\"47220\"},{\"id\":\"47222\"}],\"height\":2000,\"left\":[{\"id\":\"47215\"},{\"id\":\"47216\"}],\"renderers\":[{\"id\":\"47176\"},{\"id\":\"47180\"},{\"id\":\"47184\"},{\"id\":\"47188\"},{\"id\":\"47192\"},{\"id\":\"47196\"},{\"id\":\"47200\"},{\"id\":\"47204\"},{\"id\":\"47208\"},{\"id\":\"47212\"}],\"title\":{\"id\":\"48406\"},\"toolbar\":{\"id\":\"47229\"},\"width\":2000,\"x_range\":{\"id\":\"48402\"},\"x_scale\":{\"id\":\"48407\"},\"y_range\":{\"id\":\"47223\"},\"y_scale\":{\"id\":\"48405\"}},\"id\":\"47173\",\"type\":\"Plot\"},{\"attributes\":{},\"id\":\"48412\",\"type\":\"BasicTickFormatter\"},{\"attributes\":{\"data\":{\"h\":{\"__ndarray__\":\"mpmZmZmZ6T+amZmZmZnpP5qZmZmZmek/mpmZmZmZ6T+amZmZmZnpP5qZmZmZmek/mpmZmZmZ6T+amZmZmZnpP5qZmZmZmek/mpmZmZmZ6T+amZmZmZnpP5qZmZmZmek/mpmZmZmZ6T+amZmZmZnpP5qZmZmZmek/mpmZmZmZ6T+amZmZmZnpP5qZmZmZmek/mpmZmZmZ6T+amZmZmZnpP5qZmZmZmek/mpmZmZmZ6T+amZmZmZnpP5qZmZmZmek/mpmZmZmZ6T+amZmZmZnpP5qZmZmZmek/mpmZmZmZ6T+amZmZmZnpP5qZmZmZmek/mpmZmZmZ6T+amZmZmZnpP5qZmZmZmek/mpmZmZmZ6T+amZmZmZnpPw==\",\"dtype\":\"float64\",\"order\":\"little\",\"shape\":[35]},\"w\":{\"__ndarray__\":\"ZmZmZmZm7j9mZmZmZmbuP2ZmZmZmZu4/ZmZmZmZm7j9mZmZmZmbuP2ZmZmZmZu4/ZmZmZmZm7j9mZmZmZmbuP2ZmZmZmZu4/ZmZmZmZm7j9mZmZmZmbuP2ZmZmZmZu4/ZmZmZmZm7j9mZmZmZmbuP2ZmZmZmZu4/ZmZmZmZm7j9mZmZmZmbuP2ZmZmZmZu4/ZmZmZmZm7j9mZmZmZmbuP2ZmZmZmZu4/ZmZmZmZm7j9mZmZmZmbuP2ZmZmZmZu4/ZmZmZmZm7j9mZmZmZmbuP2ZmZmZmZu4/ZmZmZmZm7j9mZmZmZmbuP2ZmZmZmZu4/ZmZmZmZm7j9mZmZmZmbuP2ZmZmZmZu4/ZmZmZmZm7j9mZmZmZmbuPw==\",\"dtype\":\"float64\",\"order\":\"little\",\"shape\":[35]},\"x\":{\"__ndarray__\":\"AAAAAAAAAAAAAAAAAADwPwAAAAAAAABAAAAAAAAACEAAAAAAAAAQQAAAAAAAABRAAAAAAAAAGEAAAAAAAAAAAAAAAAAAAPA/AAAAAAAAAEAAAAAAAAAIQAAAAAAAABBAAAAAAAAAFEAAAAAAAAAYQAAAAAAAAAAAAAAAAAAA8D8AAAAAAAAAQAAAAAAAAAhAAAAAAAAAEEAAAAAAAAAUQAAAAAAAABhAAAAAAAAAAAAAAAAAAADwPwAAAAAAAABAAAAAAAAACEAAAAAAAAAQQAAAAAAAABRAAAAAAAAAGEAAAAAAAAAAAAAAAAAAAPA/AAAAAAAAAEAAAAAAAAAIQAAAAAAAABBAAAAAAAAAFEAAAAAAAAAYQA==\",\"dtype\":\"float64\",\"order\":\"little\",\"shape\":[35]},\"y\":{\"__ndarray__\":\"AAAAAAAA4D8AAAAAAADgPwAAAAAAAOA/AAAAAAAA4D8AAAAAAADgPwAAAAAAAOA/AAAAAAAA4D8AAAAAAAD4PwAAAAAAAPg/AAAAAAAA+D8AAAAAAAD4PwAAAAAAAPg/AAAAAAAA+D8AAAAAAAD4PwAAAAAAAARAAAAAAAAABEAAAAAAAAAEQAAAAAAAAARAAAAAAAAABEAAAAAAAAAEQAAAAAAAAARAAAAAAAAADEAAAAAAAAAMQAAAAAAAAAxAAAAAAAAADEAAAAAAAAAMQAAAAAAAAAxAAAAAAAAADEAAAAAAAAASQAAAAAAAABJAAAAAAAAAEkAAAAAAAAASQAAAAAAAABJAAAAAAAAAEkAAAAAAAAASQA==\",\"dtype\":\"float64\",\"order\":\"little\",\"shape\":[35]}},\"selected\":{\"id\":\"48416\"},\"selection_policy\":{\"id\":\"48415\"}},\"id\":\"47174\",\"type\":\"ColumnDataSource\"},{\"attributes\":{\"fill_color\":{\"value\":\"pink\"},\"height\":{\"field\":\"h\"},\"width\":{\"field\":\"w\"},\"x\":{\"field\":\"x\"},\"y\":{\"field\":\"y\"}},\"id\":\"47191\",\"type\":\"Rect\"},{\"attributes\":{},\"id\":\"48410\",\"type\":\"BasicTickFormatter\"},{\"attributes\":{},\"id\":\"48409\",\"type\":\"AllLabels\"},{\"attributes\":{},\"id\":\"48408\",\"type\":\"BasicTickFormatter\"},{\"attributes\":{\"source\":{\"id\":\"47190\"}},\"id\":\"47193\",\"type\":\"CDSView\"},{\"attributes\":{\"data\":{\"h\":{\"__ndarray__\":\"mpmZmZmZ6T+amZmZmZnpP5qZmZmZmek/mpmZmZmZ6T+amZmZmZnpP5qZmZmZmek/mpmZmZmZ6T+amZmZmZnpP5qZmZmZmek/mpmZmZmZ6T+amZmZmZnpP5qZmZmZmek/mpmZmZmZ6T+amZmZmZnpP5qZmZmZmek/mpmZmZmZ6T+amZmZmZnpP5qZmZmZmek/mpmZmZmZ6T+amZmZmZnpP5qZmZmZmek/mpmZmZmZ6T+amZmZmZnpP5qZmZmZmek/mpmZmZmZ6T+amZmZmZnpP5qZmZmZmek/mpmZmZmZ6T+amZmZmZnpP5qZmZmZmek/mpmZmZmZ6T+amZmZmZnpP5qZmZmZmek/mpmZmZmZ6T+amZmZmZnpPw==\",\"dtype\":\"float64\",\"order\":\"little\",\"shape\":[35]},\"w\":{\"__ndarray__\":\"ZmZmZmZm7j9mZmZmZmbuP2ZmZmZmZu4/ZmZmZmZm7j9mZmZmZmbuP2ZmZmZmZu4/ZmZmZmZm7j9mZmZmZmbuP2ZmZmZmZu4/ZmZmZmZm7j9mZmZmZmbuP2ZmZmZmZu4/ZmZmZmZm7j9mZmZmZmbuP2ZmZmZmZu4/ZmZmZmZm7j9mZmZmZmbuP2ZmZmZmZu4/ZmZmZmZm7j9mZmZmZmbuP2ZmZmZmZu4/ZmZmZmZm7j9mZmZmZmbuP2ZmZmZmZu4/ZmZmZmZm7j9mZmZmZmbuP2ZmZmZmZu4/ZmZmZmZm7j9mZmZmZmbuP2ZmZmZmZu4/ZmZmZmZm7j9mZmZmZmbuP2ZmZmZmZu4/ZmZmZmZm7j9mZmZmZmbuPw==\",\"dtype\":\"float64\",\"order\":\"little\",\"shape\":[35]},\"x\":{\"__ndarray__\":\"AAAAAAAAAAAAAAAAAADwPwAAAAAAAABAAAAAAAAACEAAAAAAAAAQQAAAAAAAABRAAAAAAAAAGEAAAAAAAAAAAAAAAAAAAPA/AAAAAAAAAEAAAAAAAAAIQAAAAAAAABBAAAAAAAAAFEAAAAAAAAAYQAAAAAAAAAAAAAAAAAAA8D8AAAAAAAAAQAAAAAAAAAhAAAAAAAAAEEAAAAAAAAAUQAAAAAAAABhAAAAAAAAAAAAAAAAAAADwPwAAAAAAAABAAAAAAAAACEAAAAAAAAAQQAAAAAAAABRAAAAAAAAAGEAAAAAAAAAAAAAAAAAAAPA/AAAAAAAAAEAAAAAAAAAIQAAAAAAAABBAAAAAAAAAFEAAAAAAAAAYQA==\",\"dtype\":\"float64\",\"order\":\"little\",\"shape\":[35]},\"y\":{\"__ndarray__\":\"AAAAAAAAJUAAAAAAAAAlQAAAAAAAACVAAAAAAAAAJUAAAAAAAAAlQAAAAAAAACVAAAAAAAAAJUAAAAAAAAAnQAAAAAAAACdAAAAAAAAAJ0AAAAAAAAAnQAAAAAAAACdAAAAAAAAAJ0AAAAAAAAAnQAAAAAAAAClAAAAAAAAAKUAAAAAAAAApQAAAAAAAAClAAAAAAAAAKUAAAAAAAAApQAAAAAAAAClAAAAAAAAAK0AAAAAAAAArQAAAAAAAACtAAAAAAAAAK0AAAAAAAAArQAAAAAAAACtAAAAAAAAAK0AAAAAAAAAtQAAAAAAAAC1AAAAAAAAALUAAAAAAAAAtQAAAAAAAAC1AAAAAAAAALUAAAAAAAAAtQA==\",\"dtype\":\"float64\",\"order\":\"little\",\"shape\":[35]}},\"selected\":{\"id\":\"48424\"},\"selection_policy\":{\"id\":\"48423\"}},\"id\":\"47190\",\"type\":\"ColumnDataSource\"},{\"attributes\":{},\"id\":\"48407\",\"type\":\"LinearScale\"},{\"attributes\":{\"fill_color\":{\"value\":\"lavenderblush\"},\"height\":{\"field\":\"h\"},\"width\":{\"field\":\"w\"},\"x\":{\"field\":\"x\"},\"y\":{\"field\":\"y\"}},\"id\":\"47199\",\"type\":\"Rect\"},{\"attributes\":{},\"id\":\"48406\",\"type\":\"Title\"},{\"attributes\":{\"axis_label\":\"Rooms\",\"formatter\":{\"id\":\"48412\"},\"major_label_overrides\":{\"0\":\"A1.04 | 41\",\"1\":\"A1.06 | 22\",\"2\":\"A1.08 | 20\",\"3\":\"A1.10 | 56\",\"4\":\"B0.201 | 48\",\"5\":\"C0.110 | 117\",\"6\":\"C1.112 | 60\"},\"major_label_policy\":{\"id\":\"48414\"},\"minor_tick_line_color\":null,\"ticker\":{\"id\":\"47217\"}},\"id\":\"47214\",\"type\":\"LinearAxis\"},{\"attributes\":{},\"id\":\"48405\",\"type\":\"LinearScale\"},{\"attributes\":{\"data_source\":{\"id\":\"47202\"},\"glyph\":{\"id\":\"47203\"},\"hover_glyph\":null,\"muted_glyph\":null,\"view\":{\"id\":\"47205\"}},\"id\":\"47204\",\"type\":\"GlyphRenderer\"},{\"attributes\":{\"data_source\":{\"id\":\"47190\"},\"glyph\":{\"id\":\"47191\"},\"hover_glyph\":null,\"muted_glyph\":null,\"view\":{\"id\":\"47193\"}},\"id\":\"47192\",\"type\":\"GlyphRenderer\"},{\"attributes\":{\"callback\":null,\"tooltips\":\"\\n    <div>\\n        <div><strong>Type: </strong>Lab</div>\\n        <div><strong>Group: </strong>3</div>\\n        <div><strong>Students: </strong>18</div>\\n        <div><strong>Malus points: </strong>454</div>\\n    </div>\\n\"},\"id\":\"47228\",\"type\":\"HoverTool\"},{\"attributes\":{\"fill_color\":{\"value\":\"pink\"},\"height\":{\"field\":\"h\"},\"width\":{\"field\":\"w\"},\"x\":{\"field\":\"x\"},\"y\":{\"field\":\"y\"}},\"id\":\"47175\",\"type\":\"Rect\"},{\"attributes\":{\"fill_color\":{\"value\":\"lavenderblush\"},\"height\":{\"field\":\"h\"},\"width\":{\"field\":\"w\"},\"x\":{\"field\":\"x\"},\"y\":{\"field\":\"y\"}},\"id\":\"47183\",\"type\":\"Rect\"},{\"attributes\":{},\"id\":\"48417\",\"type\":\"UnionRenderers\"},{\"attributes\":{},\"id\":\"48416\",\"type\":\"Selection\"},{\"attributes\":{},\"id\":\"48415\",\"type\":\"UnionRenderers\"},{\"attributes\":{\"data_source\":{\"id\":\"47182\"},\"glyph\":{\"id\":\"47183\"},\"hover_glyph\":null,\"muted_glyph\":null,\"view\":{\"id\":\"47185\"}},\"id\":\"47184\",\"type\":\"GlyphRenderer\"},{\"attributes\":{\"data_source\":{\"id\":\"47178\"},\"glyph\":{\"id\":\"47179\"},\"hover_glyph\":null,\"muted_glyph\":null,\"view\":{\"id\":\"47181\"}},\"id\":\"47180\",\"type\":\"GlyphRenderer\"},{\"attributes\":{},\"id\":\"48414\",\"type\":\"AllLabels\"},{\"attributes\":{},\"id\":\"48411\",\"type\":\"AllLabels\"},{\"attributes\":{\"data_source\":{\"id\":\"47186\"},\"glyph\":{\"id\":\"47187\"},\"hover_glyph\":null,\"muted_glyph\":null,\"view\":{\"id\":\"47189\"}},\"id\":\"47188\",\"type\":\"GlyphRenderer\"},{\"attributes\":{\"text_font_size\":{\"value\":\"11px\"},\"x\":{\"field\":\"x\"},\"y\":{\"field\":\"y\"}},\"id\":\"47211\",\"type\":\"Text\"},{\"attributes\":{},\"id\":\"48419\",\"type\":\"UnionRenderers\"},{\"attributes\":{\"source\":{\"id\":\"47186\"}},\"id\":\"47189\",\"type\":\"CDSView\"},{\"attributes\":{\"data\":{\"text\":[\"Zoeken sturen en bewegen(3) \",\"\",\"Software engineering(1) \",\"Software engineering(2) \",\"Reflectie op de digitale cultuur(2) \",\"Technology for games(2) \",\"Webprogrammeren en databases(2) \",\"Reflectie op de digitale cultuur(1) \",\"Reflectie op de digitale cultuur(2) \",\"Reflectie op de digitale cultuur(3) \",\"Software engineering(1) \",\"Software engineering(2) \",\"Technology for games(1) \",\"Technology for games(2) \",\"Webprogrammeren en databases(1) \",\"Webprogrammeren en databases(2) \",\"\",\"\",\"\",\"\",\"\",\"Webprogrammeren en databases(1) \",\"Webprogrammeren en databases(2) \",\"\",\"\",\"\",\"\",\"\",\"\",\"\",\"\",\"\",\"\",\"\",\"\"],\"x\":{\"__ndarray__\":\"zczMzMzM3L+amZmZmZnhP83MzMzMzPg/ZmZmZmZmBEBmZmZmZmYMQDMzMzMzMxJAMzMzMzMzFkDNzMzMzMzcv5qZmZmZmeE/zczMzMzM+D9mZmZmZmYEQGZmZmZmZgxAMzMzMzMzEkAzMzMzMzMWQM3MzMzMzNy/mpmZmZmZ4T/NzMzMzMz4P2ZmZmZmZgRAZmZmZmZmDEAzMzMzMzMSQDMzMzMzMxZAzczMzMzM3L+amZmZmZnhP83MzMzMzPg/ZmZmZmZmBEBmZmZmZmYMQDMzMzMzMxJAMzMzMzMzFkDNzMzMzMzcv5qZmZmZmeE/zczMzMzM+D9mZmZmZmYEQGZmZmZmZgxAMzMzMzMzEkAzMzMzMzMWQA==\",\"dtype\":\"float64\",\"order\":\"little\",\"shape\":[35]},\"y\":{\"__ndarray__\":\"mpmZmZmZNECamZmZmZk0QJqZmZmZmTRAmpmZmZmZNECamZmZmZk0QJqZmZmZmTRAmpmZmZmZNECamZmZmZk1QJqZmZmZmTVAmpmZmZmZNUCamZmZmZk1QJqZmZmZmTVAmpmZmZmZNUCamZmZmZk1QJqZmZmZmTZAmpmZmZmZNkCamZmZmZk2QJqZmZmZmTZAmpmZmZmZNkCamZmZmZk2QJqZmZmZmTZAmpmZmZmZN0CamZmZmZk3QJqZmZmZmTdAmpmZmZmZN0CamZmZmZk3QJqZmZmZmTdAmpmZmZmZN0CamZmZmZk4QJqZmZmZmThAmpmZmZmZOECamZmZmZk4QJqZmZmZmThAmpmZmZmZOECamZmZmZk4QA==\",\"dtype\":\"float64\",\"order\":\"little\",\"shape\":[35]}},\"selected\":{\"id\":\"48434\"},\"selection_policy\":{\"id\":\"48433\"}},\"id\":\"47210\",\"type\":\"ColumnDataSource\"},{\"attributes\":{},\"id\":\"48418\",\"type\":\"Selection\"},{\"attributes\":{},\"id\":\"48421\",\"type\":\"UnionRenderers\"},{\"attributes\":{},\"id\":\"48420\",\"type\":\"Selection\"},{\"attributes\":{},\"id\":\"48422\",\"type\":\"Selection\"},{\"attributes\":{\"data_source\":{\"id\":\"47194\"},\"glyph\":{\"id\":\"47195\"},\"hover_glyph\":null,\"muted_glyph\":null,\"view\":{\"id\":\"47197\"}},\"id\":\"47196\",\"type\":\"GlyphRenderer\"},{\"attributes\":{},\"id\":\"48427\",\"type\":\"UnionRenderers\"},{\"attributes\":{\"source\":{\"id\":\"47194\"}},\"id\":\"47197\",\"type\":\"CDSView\"},{\"attributes\":{},\"id\":\"48428\",\"type\":\"Selection\"},{\"attributes\":{\"fill_color\":{\"value\":\"pink\"},\"height\":{\"field\":\"h\"},\"width\":{\"field\":\"w\"},\"x\":{\"field\":\"x\"},\"y\":{\"field\":\"y\"}},\"id\":\"47207\",\"type\":\"Rect\"},{\"attributes\":{\"text_font_size\":{\"value\":\"11px\"},\"x\":{\"field\":\"x\"},\"y\":{\"field\":\"y\"}},\"id\":\"47195\",\"type\":\"Text\"},{\"attributes\":{},\"id\":\"48426\",\"type\":\"Selection\"},{\"attributes\":{\"data\":{\"h\":{\"__ndarray__\":\"mpmZmZmZ6T+amZmZmZnpP5qZmZmZmek/mpmZmZmZ6T+amZmZmZnpP5qZmZmZmek/mpmZmZmZ6T+amZmZmZnpP5qZmZmZmek/mpmZmZmZ6T+amZmZmZnpP5qZmZmZmek/mpmZmZmZ6T+amZmZmZnpP5qZmZmZmek/mpmZmZmZ6T+amZmZmZnpP5qZmZmZmek/mpmZmZmZ6T+amZmZmZnpP5qZmZmZmek/mpmZmZmZ6T+amZmZmZnpP5qZmZmZmek/mpmZmZmZ6T+amZmZmZnpP5qZmZmZmek/mpmZmZmZ6T+amZmZmZnpP5qZmZmZmek/mpmZmZmZ6T+amZmZmZnpP5qZmZmZmek/mpmZmZmZ6T+amZmZmZnpPw==\",\"dtype\":\"float64\",\"order\":\"little\",\"shape\":[35]},\"w\":{\"__ndarray__\":\"ZmZmZmZm7j9mZmZmZmbuP2ZmZmZmZu4/ZmZmZmZm7j9mZmZmZmbuP2ZmZmZmZu4/ZmZmZmZm7j9mZmZmZmbuP2ZmZmZmZu4/ZmZmZmZm7j9mZmZmZmbuP2ZmZmZmZu4/ZmZmZmZm7j9mZmZmZmbuP2ZmZmZmZu4/ZmZmZmZm7j9mZmZmZmbuP2ZmZmZmZu4/ZmZmZmZm7j9mZmZmZmbuP2ZmZmZmZu4/ZmZmZmZm7j9mZmZmZmbuP2ZmZmZmZu4/ZmZmZmZm7j9mZmZmZmbuP2ZmZmZmZu4/ZmZmZmZm7j9mZmZmZmbuP2ZmZmZmZu4/ZmZmZmZm7j9mZmZmZmbuP2ZmZmZmZu4/ZmZmZmZm7j9mZmZmZmbuPw==\",\"dtype\":\"float64\",\"order\":\"little\",\"shape\":[35]},\"x\":{\"__ndarray__\":\"AAAAAAAAAAAAAAAAAADwPwAAAAAAAABAAAAAAAAACEAAAAAAAAAQQAAAAAAAABRAAAAAAAAAGEAAAAAAAAAAAAAAAAAAAPA/AAAAAAAAAEAAAAAAAAAIQAAAAAAAABBAAAAAAAAAFEAAAAAAAAAYQAAAAAAAAAAAAAAAAAAA8D8AAAAAAAAAQAAAAAAAAAhAAAAAAAAAEEAAAAAAAAAUQAAAAAAAABhAAAAAAAAAAAAAAAAAAADwPwAAAAAAAABAAAAAAAAACEAAAAAAAAAQQAAAAAAAABRAAAAAAAAAGEAAAAAAAAAAAAAAAAAAAPA/AAAAAAAAAEAAAAAAAAAIQAAAAAAAABBAAAAAAAAAFEAAAAAAAAAYQA==\",\"dtype\":\"float64\",\"order\":\"little\",\"shape\":[35]},\"y\":{\"__ndarray__\":\"AAAAAAAAL0AAAAAAAAAvQAAAAAAAAC9AAAAAAAAAL0AAAAAAAAAvQAAAAAAAAC9AAAAAAAAAL0AAAAAAAIAwQAAAAAAAgDBAAAAAAACAMEAAAAAAAIAwQAAAAAAAgDBAAAAAAACAMEAAAAAAAIAwQAAAAAAAgDFAAAAAAACAMUAAAAAAAIAxQAAAAAAAgDFAAAAAAACAMUAAAAAAAIAxQAAAAAAAgDFAAAAAAACAMkAAAAAAAIAyQAAAAAAAgDJAAAAAAACAMkAAAAAAAIAyQAAAAAAAgDJAAAAAAACAMkAAAAAAAIAzQAAAAAAAgDNAAAAAAACAM0AAAAAAAIAzQAAAAAAAgDNAAAAAAACAM0AAAAAAAIAzQA==\",\"dtype\":\"float64\",\"order\":\"little\",\"shape\":[35]}},\"selected\":{\"id\":\"48428\"},\"selection_policy\":{\"id\":\"48427\"}},\"id\":\"47198\",\"type\":\"ColumnDataSource\"},{\"attributes\":{},\"id\":\"48425\",\"type\":\"UnionRenderers\"},{\"attributes\":{},\"id\":\"48402\",\"type\":\"DataRange1d\"},{\"attributes\":{\"data_source\":{\"id\":\"47174\"},\"glyph\":{\"id\":\"47175\"},\"hover_glyph\":null,\"muted_glyph\":null,\"view\":{\"id\":\"47177\"}},\"id\":\"47176\",\"type\":\"GlyphRenderer\"},{\"attributes\":{\"data\":{\"text\":[\"Collectieve Intelligentie(1) \",\"Collectieve Intelligentie(2) \",\"Collectieve Intelligentie(3) \",\"Collectieve Intelligentie(4) \",\"Data Mining(3) \",\"Heuristieken 1(1) \",\"Compilerbouw(2) \",\"Data Mining(1) \",\"Data Mining(2) \",\"Data Mining(3) \",\"Heuristieken 1(2) \",\"Heuristieken 2(1) \",\"Informatie- en organisatieontwerp(1) \",\"Databases 2(1) \",\"Netwerken en systeembeveiliging(1) \",\"Informatie- en organisatieontwerp(2) \",\"Interactie-ontwerp(1) \",\"Machine Learning(1) \",\"Lineaire Algebra(1) \",\"Moderne Databases(1) \",\"Kansrekenen 2(1) \",\"Informatie- en organisatieontwerp(1) \",\"Informatie- en organisatieontwerp(2) \",\"Interactie-ontwerp(2) \",\"Machine Learning(2) \",\"Lineaire Algebra(2) \",\"Moderne Databases(1) \",\"Kansrekenen 2(2) \",\"\",\"\",\"\",\"\",\"\",\"\",\"\"],\"x\":{\"__ndarray__\":\"zczMzMzM3L+amZmZmZnhP83MzMzMzPg/ZmZmZmZmBEBmZmZmZmYMQDMzMzMzMxJAMzMzMzMzFkDNzMzMzMzcv5qZmZmZmeE/zczMzMzM+D9mZmZmZmYEQGZmZmZmZgxAMzMzMzMzEkAzMzMzMzMWQM3MzMzMzNy/mpmZmZmZ4T/NzMzMzMz4P2ZmZmZmZgRAZmZmZmZmDEAzMzMzMzMSQDMzMzMzMxZAzczMzMzM3L+amZmZmZnhP83MzMzMzPg/ZmZmZmZmBEBmZmZmZmYMQDMzMzMzMxJAMzMzMzMzFkDNzMzMzMzcv5qZmZmZmeE/zczMzMzM+D9mZmZmZmYEQGZmZmZmZgxAMzMzMzMzEkAzMzMzMzMWQA==\",\"dtype\":\"float64\",\"order\":\"little\",\"shape\":[35]},\"y\":{\"__ndarray__\":\"MzMzMzMzJUAzMzMzMzMlQDMzMzMzMyVAMzMzMzMzJUAzMzMzMzMlQDMzMzMzMyVAMzMzMzMzJUAzMzMzMzMnQDMzMzMzMydAMzMzMzMzJ0AzMzMzMzMnQDMzMzMzMydAMzMzMzMzJ0AzMzMzMzMnQDMzMzMzMylAMzMzMzMzKUAzMzMzMzMpQDMzMzMzMylAMzMzMzMzKUAzMzMzMzMpQDMzMzMzMylAMzMzMzMzK0AzMzMzMzMrQDMzMzMzMytAMzMzMzMzK0AzMzMzMzMrQDMzMzMzMytAMzMzMzMzK0AzMzMzMzMtQDMzMzMzMy1AMzMzMzMzLUAzMzMzMzMtQDMzMzMzMy1AMzMzMzMzLUAzMzMzMzMtQA==\",\"dtype\":\"float64\",\"order\":\"little\",\"shape\":[35]}},\"selected\":{\"id\":\"48426\"},\"selection_policy\":{\"id\":\"48425\"}},\"id\":\"47194\",\"type\":\"ColumnDataSource\"},{\"attributes\":{\"data\":{\"text\":[\"Informatie- en organisatieontwerp(1) \",\"Informatie- en organisatieontwerp(2) \",\"Moderne Databases(2) \",\"Moderne Databases(3) \",\"Netwerken en systeembeveiliging(2) \",\"Netwerken en systeembeveiliging(3) \",\"Netwerken en systeembeveiliging(4) \",\"Moderne Databases(1) \",\"Moderne Databases(2) \",\"Moderne Databases(3) \",\"Programmeren in Java 2(1) \",\"Programmeren in Java 2(2) \",\"Programmeren in Java 2(3) \",\"Programmeren in Java 2(4) \",\"Programmeren in Java 2(5) \",\"Programmeren in Java 2(6) \",\"Project Genetic Algorithms(1) \",\"Project Genetic Algorithms(2) \",\"Project Genetic Algorithms(3) \",\"Project Numerical Recipes(1) \",\"Project Numerical Recipes(2) \",\"Project Numerical Recipes(3) \",\"Zoeken sturen en bewegen(1) \",\"Technology for games(1) \",\"Webprogrammeren en databases(1) \",\"Reflectie op de digitale cultuur(1) \",\"Zoeken sturen en bewegen(2) \",\"Software engineering(1) \",\"\",\"\",\"\",\"\",\"\",\"\",\"\"],\"x\":{\"__ndarray__\":\"zczMzMzM3L+amZmZmZnhP83MzMzMzPg/ZmZmZmZmBEBmZmZmZmYMQDMzMzMzMxJAMzMzMzMzFkDNzMzMzMzcv5qZmZmZmeE/zczMzMzM+D9mZmZmZmYEQGZmZmZmZgxAMzMzMzMzEkAzMzMzMzMWQM3MzMzMzNy/mpmZmZmZ4T/NzMzMzMz4P2ZmZmZmZgRAZmZmZmZmDEAzMzMzMzMSQDMzMzMzMxZAzczMzMzM3L+amZmZmZnhP83MzMzMzPg/ZmZmZmZmBEBmZmZmZmYMQDMzMzMzMxJAMzMzMzMzFkDNzMzMzMzcv5qZmZmZmeE/zczMzMzM+D9mZmZmZmYEQGZmZmZmZgxAMzMzMzMzEkAzMzMzMzMWQA==\",\"dtype\":\"float64\",\"order\":\"little\",\"shape\":[35]},\"y\":{\"__ndarray__\":\"MzMzMzMzL0AzMzMzMzMvQDMzMzMzMy9AMzMzMzMzL0AzMzMzMzMvQDMzMzMzMy9AMzMzMzMzL0CamZmZmZkwQJqZmZmZmTBAmpmZmZmZMECamZmZmZkwQJqZmZmZmTBAmpmZmZmZMECamZmZmZkwQJqZmZmZmTFAmpmZmZmZMUCamZmZmZkxQJqZmZmZmTFAmpmZmZmZMUCamZmZmZkxQJqZmZmZmTFAmpmZmZmZMkCamZmZmZkyQJqZmZmZmTJAmpmZmZmZMkCamZmZmZkyQJqZmZmZmTJAmpmZmZmZMkCamZmZmZkzQJqZmZmZmTNAmpmZmZmZM0CamZmZmZkzQJqZmZmZmTNAmpmZmZmZM0CamZmZmZkzQA==\",\"dtype\":\"float64\",\"order\":\"little\",\"shape\":[35]}},\"selected\":{\"id\":\"48430\"},\"selection_policy\":{\"id\":\"48429\"}},\"id\":\"47202\",\"type\":\"ColumnDataSource\"},{\"attributes\":{\"text_font_size\":{\"value\":\"11px\"},\"x\":{\"field\":\"x\"},\"y\":{\"field\":\"y\"}},\"id\":\"47203\",\"type\":\"Text\"},{\"attributes\":{},\"id\":\"48424\",\"type\":\"Selection\"},{\"attributes\":{\"source\":{\"id\":\"47198\"}},\"id\":\"47201\",\"type\":\"CDSView\"},{\"attributes\":{},\"id\":\"48423\",\"type\":\"UnionRenderers\"},{\"attributes\":{\"source\":{\"id\":\"47210\"}},\"id\":\"47213\",\"type\":\"CDSView\"},{\"attributes\":{},\"id\":\"48429\",\"type\":\"UnionRenderers\"},{\"attributes\":{\"data_source\":{\"id\":\"47210\"},\"glyph\":{\"id\":\"47211\"},\"hover_glyph\":null,\"muted_glyph\":null,\"view\":{\"id\":\"47213\"}},\"id\":\"47212\",\"type\":\"GlyphRenderer\"},{\"attributes\":{\"data_source\":{\"id\":\"47198\"},\"glyph\":{\"id\":\"47199\"},\"hover_glyph\":null,\"muted_glyph\":null,\"view\":{\"id\":\"47201\"}},\"id\":\"47200\",\"type\":\"GlyphRenderer\"},{\"attributes\":{\"source\":{\"id\":\"47202\"}},\"id\":\"47205\",\"type\":\"CDSView\"},{\"attributes\":{\"data\":{\"text\":[\"Advanced Heuristics(1) \",\"Architectuur en computerorganisatie(1) \",\"Autonomous Agents 2(1) \",\"Algoritmen en complexiteit(1) \",\"Analysemethoden en -technieken(1) \",\"Bioinformatica(1) \",\"Calculus 2(1) \",\"Advanced Heuristics(1) \",\"Advanced Heuristics(2) \",\"Algoritmen en complexiteit(1) \",\"Algoritmen en complexiteit(2) \",\"Architectuur en computerorganisatie(2) \",\"Autonomous Agents 2(2) \",\"Bioinformatica(2) \",\"Autonomous Agents 2(1) \",\"Algoritmen en complexiteit(1) \",\"Algoritmen en complexiteit(2) \",\"Autonomous Agents 2(2) \",\"Autonomous Agents 2(3) \",\"Bioinformatica(3) \",\"Calculus 2(1) \",\"Autonomous Agents 2(1) \",\"Autonomous Agents 2(2) \",\"Autonomous Agents 2(3) \",\"Bioinformatica(1) \",\"Bioinformatica(2) \",\"Bioinformatica(3) \",\"Calculus 2(2) \",\"\",\"\",\"\",\"\",\"\",\"\",\"\"],\"x\":{\"__ndarray__\":\"zczMzMzM3L+amZmZmZnhP83MzMzMzPg/ZmZmZmZmBEBmZmZmZmYMQDMzMzMzMxJAMzMzMzMzFkDNzMzMzMzcv5qZmZmZmeE/zczMzMzM+D9mZmZmZmYEQGZmZmZmZgxAMzMzMzMzEkAzMzMzMzMWQM3MzMzMzNy/mpmZmZmZ4T/NzMzMzMz4P2ZmZmZmZgRAZmZmZmZmDEAzMzMzMzMSQDMzMzMzMxZAzczMzMzM3L+amZmZmZnhP83MzMzMzPg/ZmZmZmZmBEBmZmZmZmYMQDMzMzMzMxJAMzMzMzMzFkDNzMzMzMzcv5qZmZmZmeE/zczMzMzM+D9mZmZmZmYEQGZmZmZmZgxAMzMzMzMzEkAzMzMzMzMWQA==\",\"dtype\":\"float64\",\"order\":\"little\",\"shape\":[35]},\"y\":{\"__ndarray__\":\"MzMzMzMz4z8zMzMzMzPjPzMzMzMzM+M/MzMzMzMz4z8zMzMzMzPjPzMzMzMzM+M/MzMzMzMz4z+amZmZmZn5P5qZmZmZmfk/mpmZmZmZ+T+amZmZmZn5P5qZmZmZmfk/mpmZmZmZ+T+amZmZmZn5P83MzMzMzARAzczMzMzMBEDNzMzMzMwEQM3MzMzMzARAzczMzMzMBEDNzMzMzMwEQM3MzMzMzARAzczMzMzMDEDNzMzMzMwMQM3MzMzMzAxAzczMzMzMDEDNzMzMzMwMQM3MzMzMzAxAzczMzMzMDEBmZmZmZmYSQGZmZmZmZhJAZmZmZmZmEkBmZmZmZmYSQGZmZmZmZhJAZmZmZmZmEkBmZmZmZmYSQA==\",\"dtype\":\"float64\",\"order\":\"little\",\"shape\":[35]}},\"selected\":{\"id\":\"48418\"},\"selection_policy\":{\"id\":\"48417\"}},\"id\":\"47178\",\"type\":\"ColumnDataSource\"},{\"attributes\":{},\"id\":\"48432\",\"type\":\"Selection\"},{\"attributes\":{\"source\":{\"id\":\"47206\"}},\"id\":\"47209\",\"type\":\"CDSView\"},{\"attributes\":{\"text_font_size\":{\"value\":\"11px\"},\"x\":{\"field\":\"x\"},\"y\":{\"field\":\"y\"}},\"id\":\"47179\",\"type\":\"Text\"},{\"attributes\":{\"data\":{\"h\":{\"__ndarray__\":\"mpmZmZmZ6T+amZmZmZnpP5qZmZmZmek/mpmZmZmZ6T+amZmZmZnpP5qZmZmZmek/mpmZmZmZ6T+amZmZmZnpP5qZmZmZmek/mpmZmZmZ6T+amZmZmZnpP5qZmZmZmek/mpmZmZmZ6T+amZmZmZnpP5qZmZmZmek/mpmZmZmZ6T+amZmZmZnpP5qZmZmZmek/mpmZmZmZ6T+amZmZmZnpP5qZmZmZmek/mpmZmZmZ6T+amZmZmZnpP5qZmZmZmek/mpmZmZmZ6T+amZmZmZnpP5qZmZmZmek/mpmZmZmZ6T+amZmZmZnpP5qZmZmZmek/mpmZmZmZ6T+amZmZmZnpP5qZmZmZmek/mpmZmZmZ6T+amZmZmZnpPw==\",\"dtype\":\"float64\",\"order\":\"little\",\"shape\":[35]},\"w\":{\"__ndarray__\":\"ZmZmZmZm7j9mZmZmZmbuP2ZmZmZmZu4/ZmZmZmZm7j9mZmZmZmbuP2ZmZmZmZu4/ZmZmZmZm7j9mZmZmZmbuP2ZmZmZmZu4/ZmZmZmZm7j9mZmZmZmbuP2ZmZmZmZu4/ZmZmZmZm7j9mZmZmZmbuP2ZmZmZmZu4/ZmZmZmZm7j9mZmZmZmbuP2ZmZmZmZu4/ZmZmZmZm7j9mZmZmZmbuP2ZmZmZmZu4/ZmZmZmZm7j9mZmZmZmbuP2ZmZmZmZu4/ZmZmZmZm7j9mZmZmZmbuP2ZmZmZmZu4/ZmZmZmZm7j9mZmZmZmbuP2ZmZmZmZu4/ZmZmZmZm7j9mZmZmZmbuP2ZmZmZmZu4/ZmZmZmZm7j9mZmZmZmbuPw==\",\"dtype\":\"float64\",\"order\":\"little\",\"shape\":[35]},\"x\":{\"__ndarray__\":\"AAAAAAAAAAAAAAAAAADwPwAAAAAAAABAAAAAAAAACEAAAAAAAAAQQAAAAAAAABRAAAAAAAAAGEAAAAAAAAAAAAAAAAAAAPA/AAAAAAAAAEAAAAAAAAAIQAAAAAAAABBAAAAAAAAAFEAAAAAAAAAYQAAAAAAAAAAAAAAAAAAA8D8AAAAAAAAAQAAAAAAAAAhAAAAAAAAAEEAAAAAAAAAUQAAAAAAAABhAAAAAAAAAAAAAAAAAAADwPwAAAAAAAABAAAAAAAAACEAAAAAAAAAQQAAAAAAAABRAAAAAAAAAGEAAAAAAAAAAAAAAAAAAAPA/AAAAAAAAAEAAAAAAAAAIQAAAAAAAABBAAAAAAAAAFEAAAAAAAAAYQA==\",\"dtype\":\"float64\",\"order\":\"little\",\"shape\":[35]},\"y\":{\"__ndarray__\":\"AAAAAACANEAAAAAAAIA0QAAAAAAAgDRAAAAAAACANEAAAAAAAIA0QAAAAAAAgDRAAAAAAACANEAAAAAAAIA1QAAAAAAAgDVAAAAAAACANUAAAAAAAIA1QAAAAAAAgDVAAAAAAACANUAAAAAAAIA1QAAAAAAAgDZAAAAAAACANkAAAAAAAIA2QAAAAAAAgDZAAAAAAACANkAAAAAAAIA2QAAAAAAAgDZAAAAAAACAN0AAAAAAAIA3QAAAAAAAgDdAAAAAAACAN0AAAAAAAIA3QAAAAAAAgDdAAAAAAACAN0AAAAAAAIA4QAAAAAAAgDhAAAAAAACAOEAAAAAAAIA4QAAAAAAAgDhAAAAAAACAOEAAAAAAAIA4QA==\",\"dtype\":\"float64\",\"order\":\"little\",\"shape\":[35]}},\"selected\":{\"id\":\"48432\"},\"selection_policy\":{\"id\":\"48431\"}},\"id\":\"47206\",\"type\":\"ColumnDataSource\"},{\"attributes\":{},\"id\":\"48431\",\"type\":\"UnionRenderers\"},{\"attributes\":{\"axis\":null,\"ticker\":{\"id\":\"47217\"}},\"id\":\"47218\",\"type\":\"Grid\"},{\"attributes\":{\"data_source\":{\"id\":\"47206\"},\"glyph\":{\"id\":\"47207\"},\"hover_glyph\":null,\"muted_glyph\":null,\"view\":{\"id\":\"47209\"}},\"id\":\"47208\",\"type\":\"GlyphRenderer\"},{\"attributes\":{\"source\":{\"id\":\"47174\"}},\"id\":\"47177\",\"type\":\"CDSView\"},{\"attributes\":{\"axis_label\":\"Time slots\",\"formatter\":{\"id\":\"48408\"},\"major_label_overrides\":{\"0\":\"09:00\",\"1\":\"11:00\",\"10\":\"09:00\",\"11\":\"11:00\",\"12\":\"13:00\",\"13\":\"15:00\",\"14\":\"17:00\",\"15\":\"09:00\",\"16\":\"11:00\",\"17\":\"13:00\",\"18\":\"15:00\",\"19\":\"17:00\",\"2\":\"13:00\",\"20\":\"09:00\",\"21\":\"11:00\",\"22\":\"13:00\",\"23\":\"15:00\",\"24\":\"17:00\",\"25\":\"19:00\",\"3\":\"15:00\",\"4\":\"17:00\",\"5\":\"09:00\",\"6\":\"11:00\",\"7\":\"13:00\",\"8\":\"15:00\",\"9\":\"17:00\"},\"major_label_policy\":{\"id\":\"48409\"},\"ticker\":{\"id\":\"47224\"}},\"id\":\"47215\",\"type\":\"LinearAxis\"},{\"attributes\":{},\"id\":\"48430\",\"type\":\"Selection\"},{\"attributes\":{\"axis_label\":\"Days\",\"formatter\":{\"id\":\"48410\"},\"major_label_overrides\":{\"12.5\":\"Wednesday\",\"17.5\":\"Thursday\",\"2.5\":\"Monday\",\"22.5\":\"Friday\",\"7.5\":\"Tuesday\"},\"major_label_policy\":{\"id\":\"48411\"},\"ticker\":{\"id\":\"47226\"}},\"id\":\"47216\",\"type\":\"LinearAxis\"},{\"attributes\":{},\"id\":\"48433\",\"type\":\"UnionRenderers\"},{\"attributes\":{},\"id\":\"48434\",\"type\":\"Selection\"},{\"attributes\":{},\"id\":\"47217\",\"type\":\"BasicTicker\"},{\"attributes\":{\"data\":{\"h\":{\"__ndarray__\":\"mpmZmZmZ6T+amZmZmZnpP5qZmZmZmek/mpmZmZmZ6T+amZmZmZnpP5qZmZmZmek/mpmZmZmZ6T+amZmZmZnpP5qZmZmZmek/mpmZmZmZ6T+amZmZmZnpP5qZmZmZmek/mpmZmZmZ6T+amZmZmZnpP5qZmZmZmek/mpmZmZmZ6T+amZmZmZnpP5qZmZmZmek/mpmZmZmZ6T+amZmZmZnpP5qZmZmZmek/mpmZmZmZ6T+amZmZmZnpP5qZmZmZmek/mpmZmZmZ6T+amZmZmZnpP5qZmZmZmek/mpmZmZmZ6T+amZmZmZnpP5qZmZmZmek/mpmZmZmZ6T+amZmZmZnpP5qZmZmZmek/mpmZmZmZ6T+amZmZmZnpPw==\",\"dtype\":\"float64\",\"order\":\"little\",\"shape\":[35]},\"w\":{\"__ndarray__\":\"ZmZmZmZm7j9mZmZmZmbuP2ZmZmZmZu4/ZmZmZmZm7j9mZmZmZmbuP2ZmZmZmZu4/ZmZmZmZm7j9mZmZmZmbuP2ZmZmZmZu4/ZmZmZmZm7j9mZmZmZmbuP2ZmZmZmZu4/ZmZmZmZm7j9mZmZmZmbuP2ZmZmZmZu4/ZmZmZmZm7j9mZmZmZmbuP2ZmZmZmZu4/ZmZmZmZm7j9mZmZmZmbuP2ZmZmZmZu4/ZmZmZmZm7j9mZmZmZmbuP2ZmZmZmZu4/ZmZmZmZm7j9mZmZmZmbuP2ZmZmZmZu4/ZmZmZmZm7j9mZmZmZmbuP2ZmZmZmZu4/ZmZmZmZm7j9mZmZmZmbuP2ZmZmZmZu4/ZmZmZmZm7j9mZmZmZmbuPw==\",\"dtype\":\"float64\",\"order\":\"little\",\"shape\":[35]},\"x\":{\"__ndarray__\":\"AAAAAAAAAAAAAAAAAADwPwAAAAAAAABAAAAAAAAACEAAAAAAAAAQQAAAAAAAABRAAAAAAAAAGEAAAAAAAAAAAAAAAAAAAPA/AAAAAAAAAEAAAAAAAAAIQAAAAAAAABBAAAAAAAAAFEAAAAAAAAAYQAAAAAAAAAAAAAAAAAAA8D8AAAAAAAAAQAAAAAAAAAhAAAAAAAAAEEAAAAAAAAAUQAAAAAAAABhAAAAAAAAAAAAAAAAAAADwPwAAAAAAAABAAAAAAAAACEAAAAAAAAAQQAAAAAAAABRAAAAAAAAAGEAAAAAAAAAAAAAAAAAAAPA/AAAAAAAAAEAAAAAAAAAIQAAAAAAAABBAAAAAAAAAFEAAAAAAAAAYQA==\",\"dtype\":\"float64\",\"order\":\"little\",\"shape\":[35]},\"y\":{\"__ndarray__\":\"AAAAAAAAFkAAAAAAAAAWQAAAAAAAABZAAAAAAAAAFkAAAAAAAAAWQAAAAAAAABZAAAAAAAAAFkAAAAAAAAAaQAAAAAAAABpAAAAAAAAAGkAAAAAAAAAaQAAAAAAAABpAAAAAAAAAGkAAAAAAAAAaQAAAAAAAAB5AAAAAAAAAHkAAAAAAAAAeQAAAAAAAAB5AAAAAAAAAHkAAAAAAAAAeQAAAAAAAAB5AAAAAAAAAIUAAAAAAAAAhQAAAAAAAACFAAAAAAAAAIUAAAAAAAAAhQAAAAAAAACFAAAAAAAAAIUAAAAAAAAAjQAAAAAAAACNAAAAAAAAAI0AAAAAAAAAjQAAAAAAAACNAAAAAAAAAI0AAAAAAAAAjQA==\",\"dtype\":\"float64\",\"order\":\"little\",\"shape\":[35]}},\"selected\":{\"id\":\"48420\"},\"selection_policy\":{\"id\":\"48419\"}},\"id\":\"47182\",\"type\":\"ColumnDataSource\"},{\"attributes\":{\"source\":{\"id\":\"47182\"}},\"id\":\"47185\",\"type\":\"CDSView\"},{\"attributes\":{\"data\":{\"text\":[\"Bioinformatica(1) \",\"Bioinformatica(2) \",\"Bioinformatica(3) \",\"Calculus 2(3) \",\"Compilerbouw(1) \",\"Compilerbouw(2) \",\"Collectieve Intelligentie(1) \",\"Compilerbouw practicum(1) \",\"Compilerbouw practicum(2) \",\"Compilerbouw(1) \",\"Compilerbouw(2) \",\"Compilerbouw practicum(3) \",\"Data Mining(1) \",\"Collectieve Intelligentie(2) \",\"Heuristieken 2(1) \",\"Heuristieken 2(2) \",\"Data Mining(2) \",\"Databases 2(1) \",\"Databases 2(2) \",\"Heuristieken 1(1) \",\"Collectieve Intelligentie(3) \",\"Collectieve Intelligentie(1) \",\"Collectieve Intelligentie(2) \",\"Collectieve Intelligentie(3) \",\"Collectieve Intelligentie(4) \",\"Data Mining(1) \",\"Data Mining(2) \",\"Compilerbouw(1) \",\"\",\"\",\"\",\"\",\"\",\"\",\"\"],\"x\":{\"__ndarray__\":\"zczMzMzM3L+amZmZmZnhP83MzMzMzPg/ZmZmZmZmBEBmZmZmZmYMQDMzMzMzMxJAMzMzMzMzFkDNzMzMzMzcv5qZmZmZmeE/zczMzMzM+D9mZmZmZmYEQGZmZmZmZgxAMzMzMzMzEkAzMzMzMzMWQM3MzMzMzNy/mpmZmZmZ4T/NzMzMzMz4P2ZmZmZmZgRAZmZmZmZmDEAzMzMzMzMSQDMzMzMzMxZAzczMzMzM3L+amZmZmZnhP83MzMzMzPg/ZmZmZmZmBEBmZmZmZmYMQDMzMzMzMxJAMzMzMzMzFkDNzMzMzMzcv5qZmZmZmeE/zczMzMzM+D9mZmZmZmYEQGZmZmZmZgxAMzMzMzMzEkAzMzMzMzMWQA==\",\"dtype\":\"float64\",\"order\":\"little\",\"shape\":[35]},\"y\":{\"__ndarray__\":\"ZmZmZmZmFkBmZmZmZmYWQGZmZmZmZhZAZmZmZmZmFkBmZmZmZmYWQGZmZmZmZhZAZmZmZmZmFkBmZmZmZmYaQGZmZmZmZhpAZmZmZmZmGkBmZmZmZmYaQGZmZmZmZhpAZmZmZmZmGkBmZmZmZmYaQGZmZmZmZh5AZmZmZmZmHkBmZmZmZmYeQGZmZmZmZh5AZmZmZmZmHkBmZmZmZmYeQGZmZmZmZh5AMzMzMzMzIUAzMzMzMzMhQDMzMzMzMyFAMzMzMzMzIUAzMzMzMzMhQDMzMzMzMyFAMzMzMzMzIUAzMzMzMzMjQDMzMzMzMyNAMzMzMzMzI0AzMzMzMzMjQDMzMzMzMyNAMzMzMzMzI0AzMzMzMzMjQA==\",\"dtype\":\"float64\",\"order\":\"little\",\"shape\":[35]}},\"selected\":{\"id\":\"48422\"},\"selection_policy\":{\"id\":\"48421\"}},\"id\":\"47186\",\"type\":\"ColumnDataSource\"},{\"attributes\":{\"active_multi\":null,\"tools\":[{\"id\":\"47228\"}]},\"id\":\"47229\",\"type\":\"Toolbar\"},{\"attributes\":{\"ticks\":[0,1,2,3,4,5,6,7,8,9,10,11,12,13,14,15,16,17,18,19,20,21,22,23,24,25]},\"id\":\"47224\",\"type\":\"FixedTicker\"},{\"attributes\":{\"source\":{\"id\":\"47178\"}},\"id\":\"47181\",\"type\":\"CDSView\"},{\"attributes\":{\"flipped\":true},\"id\":\"47223\",\"type\":\"DataRange1d\"},{\"attributes\":{},\"id\":\"47219\",\"type\":\"BasicTicker\"},{\"attributes\":{\"text_font_size\":{\"value\":\"11px\"},\"x\":{\"field\":\"x\"},\"y\":{\"field\":\"y\"}},\"id\":\"47187\",\"type\":\"Text\"},{\"attributes\":{\"axis\":null,\"dimension\":1,\"ticker\":{\"id\":\"47219\"}},\"id\":\"47220\",\"type\":\"Grid\"},{\"attributes\":{\"ticks\":[2.5,7.5,12.5,17.5,22.5]},\"id\":\"47226\",\"type\":\"FixedTicker\"},{\"attributes\":{\"axis\":null,\"dimension\":1,\"ticker\":{\"id\":\"47221\"}},\"id\":\"47222\",\"type\":\"Grid\"},{\"attributes\":{},\"id\":\"47221\",\"type\":\"BasicTicker\"}],\"root_ids\":[\"47173\"]},\"title\":\"Bokeh Application\",\"version\":\"2.3.2\"}};\n  var render_items = [{\"docid\":\"f5cdfc6b-02f0-4d10-8985-7c22e1367aa1\",\"root_ids\":[\"47173\"],\"roots\":{\"47173\":\"3c855788-04f9-4702-b95b-79ccfcf007bb\"}}];\n  root.Bokeh.embed.embed_items_notebook(docs_json, render_items);\n\n  }\n  if (root.Bokeh !== undefined) {\n    embed_document(root);\n  } else {\n    var attempts = 0;\n    var timer = setInterval(function(root) {\n      if (root.Bokeh !== undefined) {\n        clearInterval(timer);\n        embed_document(root);\n      } else {\n        attempts++;\n        if (attempts > 100) {\n          clearInterval(timer);\n          console.log(\"Bokeh: ERROR: Unable to run BokehJS code because BokehJS library is missing\");\n        }\n      }\n    }, 10, root)\n  }\n})(window);",
      "application/vnd.bokehjs_exec.v0+json": ""
     },
     "metadata": {
      "application/vnd.bokehjs_exec.v0+json": {
       "id": "47173"
      }
     },
     "output_type": "display_data"
    }
   ],
   "source": [
    "# # TODO: werken met schedule object en zijn df attribuut\n",
    "\n",
    "# output_file(\"../output_data/schedule.html\")\n",
    "\n",
    "# # read in the schedule dataframe\n",
    "# schedule_df = pd.read_csv(\"../output_data/schedule_student_numbers.csv\").set_index(\"Time\")\n",
    "\n",
    "# # read in the room dataframe\n",
    "# rooms_df = pd.read_csv(\"../input_data/rooms.csv\").rename(columns={\"Zaalnummber\":\"room\", \"Max. capaciteit\" : \"capacity\"})\n",
    "# rooms_df[\"capacity\"] = rooms_df[\"capacity\"].apply(str)\n",
    "\n",
    "# # convert the room dataframe to a dictionary -> {index (int): {\"room\" : room number (str), \"capacity\": room capacity (str)}}\n",
    "# room_dict = rooms_df.to_dict('index')\n",
    "\n",
    "# # create the plot on which we design the schedule\n",
    "# schedule = Plot(width=2000, height=2000)\n",
    "\n",
    "# # width and height of each lesson's visual representation (rectangle)\n",
    "# w = np.full(35, .95)\n",
    "# h = np.full(35, .8)\n",
    "\n",
    "# number_of_rooms = 7\n",
    "\n",
    "# number_of_days = 5\n",
    "# time_slots_per_day = 5\n",
    "# total_slots = number_of_days * time_slots_per_day\n",
    "\n",
    "# # keep track of the x and y coordinates of each day's lessons (rectangles)\n",
    "# x_values = np.array([])\n",
    "# y_values = np.array([])\n",
    "\n",
    "# # keep track of the names of each day's lessons (rectangles)\n",
    "# courses = []\n",
    "\n",
    "# # loop over the time slots\n",
    "# for y in range(total_slots):\n",
    "    \n",
    "#     # loop over the rooms\n",
    "#     for x in range(number_of_rooms):\n",
    "        \n",
    "#         x_values = np.append(x_values, x)\n",
    "#         y_values = np.append(y_values, y + .5)\n",
    "\n",
    "#         # append the course name\n",
    "#         course_info = schedule_df.iloc[y][x]\n",
    "#         course_name = str(course_info.split(\"|\")[0])\n",
    "#         courses.append(course_name if len(course_name) > 1 else \"\")\n",
    "    \n",
    "#     # one day has passed (e.g. at index 4, 9 etc.)\n",
    "#     if y % 5 == 4: \n",
    "        \n",
    "#         # add one day's rectangles to schedule\n",
    "#         rect_source = ColumnDataSource(dict(x=x_values, y=y_values, w=w, h=h))\n",
    "#         rectangles = Rect(x=\"x\", y=\"y\", width=\"w\", height=\"h\", fill_color=color_pick(y + 1))\n",
    "#         schedule.add_glyph(rect_source, rectangles)\n",
    "\n",
    "#         # create arrays for the text's x and y coordinates to make sure the text aligns nicely with rectangles\n",
    "#         text_x_values = x_values - .45\n",
    "#         text_y_values = y_values + .1\n",
    "\n",
    "#         # add text\n",
    "#         text_source = ColumnDataSource(dict(x=text_x_values, y=text_y_values, text=courses))\n",
    "#         my_text = Text(x=\"x\", y=\"y\", text=\"text\")\n",
    "#         my_text.text_font_size = {'value': '11px'}\n",
    "#         schedule.add_glyph(text_source, my_text)\n",
    "        \n",
    "#         # empty the arrays\n",
    "#         x_values = np.array([])\n",
    "#         y_values = np.array([])\n",
    "#         courses = []\n",
    "    \n",
    "# # add x and y axis - ???\n",
    "# xaxis = LinearAxis(axis_label=\"Rooms\")\n",
    "# schedule.add_layout(xaxis, 'above')\n",
    "# yaxis = LinearAxis(axis_label='Time slots')\n",
    "# schedule.add_layout(yaxis, 'left')\n",
    "# yaxis2 = LinearAxis(axis_label='Days')\n",
    "# schedule.add_layout(yaxis2, 'left')\n",
    "\n",
    "# # ???\n",
    "# schedule.add_layout(Grid(dimension=0, ticker=xaxis.ticker))\n",
    "# schedule.add_layout(Grid(dimension=1, ticker=yaxis.ticker))\n",
    "# schedule.add_layout(Grid(dimension=1, ticker=yaxis2.ticker))\n",
    "\n",
    "# # create room tick labels\n",
    "# schedule.xaxis.major_label_overrides = {num : (room_dict[num][\"room\"] + \" | \" + room_dict[num][\"capacity\"]) for num in range(number_of_rooms)}\n",
    "# schedule.xaxis.minor_tick_line_color = None\n",
    "\n",
    "# # make sure we start at 0 in the upper left corner\n",
    "# schedule.y_range.flipped = True \n",
    "\n",
    "# # create time tick labels (0 up to and including 25, to get a \"19:00\" tick)\n",
    "# schedule.yaxis[0].ticker = np.arange(total_slots + 1)\n",
    "# schedule.yaxis[0].major_label_overrides = {num : time_ticker_func(num) for num in range(total_slots + 1)}\n",
    "\n",
    "# # create day tick labels (starting at 2.5 with steps of 5, to get ticks halfway through each day)\n",
    "# schedule.yaxis[1].ticker = np.arange((time_slots_per_day / 2), total_slots + (time_slots_per_day / 2), number_of_days)\n",
    "# schedule.yaxis[1].major_label_overrides = {num : day_ticker_func(num) for num in np.arange((time_slots_per_day / 2), total_slots + (time_slots_per_day / 2), number_of_days)}\n",
    "\n",
    "# # TODO: de lesson waarden achterhalen -> df maken met type, group, students en malus points?\n",
    "# # laad de rooms in en sla ze op in een dict. Deze omzetten in df.\n",
    "# # lekker hoveren \n",
    "# hover = HoverTool()\n",
    "# hover.tooltips = \"\"\"\n",
    "#     <div>\n",
    "#         <div><strong>Type: </strong>Lab</div>\n",
    "#         <div><strong>Group: </strong>3</div>\n",
    "#         <div><strong>Students: </strong>18</div>\n",
    "#         <div><strong>Malus points: </strong>454</div>\n",
    "#     </div>\n",
    "# \"\"\"\n",
    "\n",
    "# schedule.add_tools(hover)\n",
    "\n",
    "# # show the results\n",
    "# show(schedule)"
   ]
  },
  {
   "cell_type": "markdown",
   "id": "ec8d1591",
   "metadata": {},
   "source": [
    "### TO DO\n",
    "- lesson info achterhalen uit bestaande code -> implementeren in hovertool\n",
    "- ook nog welke studenten in hovertool?\n",
    "- (selection tool voor individuele roosters)\n",
    "- rooms oplopend in capaciteit\n",
    "- Niet eerst in df opslaan en dan mooier maken, maar meteen naar Bokeh doorsturen\n",
    "- Main.py file staat nu in root dus alle data inlezen heeft andere path files\n",
    "- Lesnamen zijn nu zonder (1)\n",
    "- Zaalnummber kolom is nu aangepast\n"
   ]
  },
  {
   "cell_type": "code",
   "execution_count": null,
   "id": "8efc26e6",
   "metadata": {},
   "outputs": [],
   "source": []
  }
 ],
 "metadata": {
  "kernelspec": {
   "display_name": "Python 3",
   "language": "python",
   "name": "python3"
  },
  "language_info": {
   "codemirror_mode": {
    "name": "ipython",
    "version": 3
   },
   "file_extension": ".py",
   "mimetype": "text/x-python",
   "name": "python",
   "nbconvert_exporter": "python",
   "pygments_lexer": "ipython3",
   "version": "3.7.10"
  }
 },
 "nbformat": 4,
 "nbformat_minor": 5
}
